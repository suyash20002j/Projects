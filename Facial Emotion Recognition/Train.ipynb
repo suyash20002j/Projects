{
 "cells": [
  {
   "cell_type": "code",
   "execution_count": 2,
   "id": "1b508b78",
   "metadata": {},
   "outputs": [],
   "source": [
    "# import required packages\n",
    "import cv2\n",
    "from keras.models import Sequential\n",
    "from keras.layers import Conv2D, MaxPooling2D, Dense, Dropout, Flatten\n",
    "from keras.optimizers import Adam\n",
    "from keras.preprocessing.image import ImageDataGenerator\n"
   ]
  },
  {
   "cell_type": "code",
   "execution_count": 4,
   "id": "78416a73",
   "metadata": {},
   "outputs": [
    {
     "name": "stdout",
     "output_type": "stream",
     "text": [
      "Found 28709 images belonging to 7 classes.\n",
      "Found 7178 images belonging to 7 classes.\n"
     ]
    }
   ],
   "source": [
    "# Initialize image data generator with rescaling\n",
    "train_data_gen = ImageDataGenerator(rescale=1./255)\n",
    "validation_data_gen = ImageDataGenerator(rescale=1./255)\n",
    "\n",
    "# Preprocess all test images\n",
    "train_generator = train_data_gen.flow_from_directory(\n",
    "        'data/train',\n",
    "        target_size=(48, 48),\n",
    "        batch_size=64,\n",
    "        color_mode=\"grayscale\",\n",
    "        class_mode='categorical')\n",
    "\n",
    "# Preprocess all train images\n",
    "validation_generator = validation_data_gen.flow_from_directory(\n",
    "        'data/test',\n",
    "        target_size=(48, 48),\n",
    "        batch_size=64,\n",
    "        color_mode=\"grayscale\",\n",
    "        class_mode='categorical')\n",
    "\n"
   ]
  },
  {
   "cell_type": "code",
   "execution_count": 4,
   "id": "43e89295",
   "metadata": {},
   "outputs": [],
   "source": [
    "# create model structure\n",
    "emotion_model = Sequential()\n",
    "\n",
    "emotion_model.add(Conv2D(32, kernel_size=(3, 3), activation='relu', input_shape=(48, 48, 1)))\n",
    "emotion_model.add(Conv2D(64, kernel_size=(3, 3), activation='relu'))\n",
    "emotion_model.add(MaxPooling2D(pool_size=(2, 2)))\n",
    "emotion_model.add(Dropout(0.25))\n",
    "\n",
    "emotion_model.add(Conv2D(128, kernel_size=(3, 3), activation='relu'))\n",
    "emotion_model.add(MaxPooling2D(pool_size=(2, 2)))\n",
    "emotion_model.add(Conv2D(128, kernel_size=(3, 3), activation='relu'))\n",
    "emotion_model.add(MaxPooling2D(pool_size=(2, 2)))\n",
    "emotion_model.add(Dropout(0.25))\n",
    "\n",
    "emotion_model.add(Flatten())\n",
    "emotion_model.add(Dense(1024, activation='relu'))\n",
    "emotion_model.add(Dropout(0.5))\n",
    "emotion_model.add(Dense(7, activation='softmax'))\n",
    "\n",
    "emotion_model.compile(loss='categorical_crossentropy', optimizer=Adam(learning_rate=0.0001, decay=1e-6), metrics=['accuracy'])\n",
    "\n"
   ]
  },
  {
   "cell_type": "code",
   "execution_count": 6,
   "id": "ca47f18a",
   "metadata": {},
   "outputs": [
    {
     "name": "stdout",
     "output_type": "stream",
     "text": [
      "Epoch 1/50\n",
      "448/448 [==============================] - 233s 521ms/step - loss: 1.7886 - accuracy: 0.2666 - val_loss: 1.6793 - val_accuracy: 0.3504\n",
      "Epoch 2/50\n",
      "448/448 [==============================] - 231s 516ms/step - loss: 1.6225 - accuracy: 0.3672 - val_loss: 1.5364 - val_accuracy: 0.4252\n",
      "Epoch 3/50\n",
      "448/448 [==============================] - 229s 512ms/step - loss: 1.5246 - accuracy: 0.4129 - val_loss: 1.4536 - val_accuracy: 0.4471\n",
      "Epoch 4/50\n",
      "448/448 [==============================] - 219s 489ms/step - loss: 1.4510 - accuracy: 0.4434 - val_loss: 1.3927 - val_accuracy: 0.4729\n",
      "Epoch 5/50\n",
      "448/448 [==============================] - 211s 471ms/step - loss: 1.3883 - accuracy: 0.4737 - val_loss: 1.3471 - val_accuracy: 0.4937\n",
      "Epoch 6/50\n",
      "448/448 [==============================] - 213s 476ms/step - loss: 1.3359 - accuracy: 0.4910 - val_loss: 1.2975 - val_accuracy: 0.5085\n",
      "Epoch 7/50\n",
      "448/448 [==============================] - 227s 505ms/step - loss: 1.2927 - accuracy: 0.5097 - val_loss: 1.2640 - val_accuracy: 0.5173\n",
      "Epoch 8/50\n",
      "448/448 [==============================] - 211s 472ms/step - loss: 1.2536 - accuracy: 0.5220 - val_loss: 1.2364 - val_accuracy: 0.5312\n",
      "Epoch 9/50\n",
      "448/448 [==============================] - 265s 592ms/step - loss: 1.2157 - accuracy: 0.5402 - val_loss: 1.2116 - val_accuracy: 0.5400\n",
      "Epoch 10/50\n",
      "448/448 [==============================] - 246s 549ms/step - loss: 1.1861 - accuracy: 0.5526 - val_loss: 1.1902 - val_accuracy: 0.5455\n",
      "Epoch 11/50\n",
      "448/448 [==============================] - 233s 520ms/step - loss: 1.1591 - accuracy: 0.5647 - val_loss: 1.1686 - val_accuracy: 0.5569\n",
      "Epoch 12/50\n",
      "448/448 [==============================] - 223s 498ms/step - loss: 1.1267 - accuracy: 0.5767 - val_loss: 1.1514 - val_accuracy: 0.5626\n",
      "Epoch 13/50\n",
      "448/448 [==============================] - 220s 492ms/step - loss: 1.1014 - accuracy: 0.5842 - val_loss: 1.1382 - val_accuracy: 0.5678\n",
      "Epoch 14/50\n",
      "448/448 [==============================] - 215s 479ms/step - loss: 1.0739 - accuracy: 0.5995 - val_loss: 1.1256 - val_accuracy: 0.5702\n",
      "Epoch 15/50\n",
      "448/448 [==============================] - 215s 479ms/step - loss: 1.0567 - accuracy: 0.6082 - val_loss: 1.1139 - val_accuracy: 0.5769\n",
      "Epoch 16/50\n",
      "448/448 [==============================] - 218s 486ms/step - loss: 1.0288 - accuracy: 0.6134 - val_loss: 1.1086 - val_accuracy: 0.5812\n",
      "Epoch 17/50\n",
      "448/448 [==============================] - 252s 562ms/step - loss: 1.0067 - accuracy: 0.6259 - val_loss: 1.1019 - val_accuracy: 0.5801\n",
      "Epoch 18/50\n",
      "448/448 [==============================] - 256s 572ms/step - loss: 0.9828 - accuracy: 0.6353 - val_loss: 1.0869 - val_accuracy: 0.5866\n",
      "Epoch 19/50\n",
      "448/448 [==============================] - 257s 573ms/step - loss: 0.9598 - accuracy: 0.6453 - val_loss: 1.1000 - val_accuracy: 0.5840\n",
      "Epoch 20/50\n",
      "448/448 [==============================] - 264s 590ms/step - loss: 0.9362 - accuracy: 0.6523 - val_loss: 1.0798 - val_accuracy: 0.5947\n",
      "Epoch 21/50\n",
      "448/448 [==============================] - 256s 571ms/step - loss: 0.9141 - accuracy: 0.6622 - val_loss: 1.0684 - val_accuracy: 0.5985\n",
      "Epoch 22/50\n",
      "448/448 [==============================] - 240s 535ms/step - loss: 0.8891 - accuracy: 0.6727 - val_loss: 1.0807 - val_accuracy: 0.5936\n",
      "Epoch 23/50\n",
      "448/448 [==============================] - 218s 486ms/step - loss: 0.8658 - accuracy: 0.6845 - val_loss: 1.0859 - val_accuracy: 0.5954\n",
      "Epoch 24/50\n",
      "448/448 [==============================] - 217s 485ms/step - loss: 0.8428 - accuracy: 0.6904 - val_loss: 1.0672 - val_accuracy: 0.5936\n",
      "Epoch 25/50\n",
      "448/448 [==============================] - 211s 472ms/step - loss: 0.8230 - accuracy: 0.6952 - val_loss: 1.0761 - val_accuracy: 0.5985\n",
      "Epoch 26/50\n",
      "448/448 [==============================] - 217s 483ms/step - loss: 0.7975 - accuracy: 0.7069 - val_loss: 1.0785 - val_accuracy: 0.6039\n",
      "Epoch 27/50\n",
      "448/448 [==============================] - 211s 471ms/step - loss: 0.7732 - accuracy: 0.7171 - val_loss: 1.0748 - val_accuracy: 0.6007\n",
      "Epoch 28/50\n",
      "448/448 [==============================] - 213s 476ms/step - loss: 0.7535 - accuracy: 0.7232 - val_loss: 1.0632 - val_accuracy: 0.6091\n",
      "Epoch 29/50\n",
      "448/448 [==============================] - 227s 507ms/step - loss: 0.7375 - accuracy: 0.7283 - val_loss: 1.0729 - val_accuracy: 0.6092\n",
      "Epoch 30/50\n",
      "448/448 [==============================] - 220s 491ms/step - loss: 0.7176 - accuracy: 0.7359 - val_loss: 1.0693 - val_accuracy: 0.6097\n",
      "Epoch 31/50\n",
      "448/448 [==============================] - 218s 488ms/step - loss: 0.6877 - accuracy: 0.7492 - val_loss: 1.0622 - val_accuracy: 0.6138\n",
      "Epoch 32/50\n",
      "448/448 [==============================] - 219s 489ms/step - loss: 0.6689 - accuracy: 0.7566 - val_loss: 1.0759 - val_accuracy: 0.6091\n",
      "Epoch 33/50\n",
      "448/448 [==============================] - 219s 489ms/step - loss: 0.6462 - accuracy: 0.7641 - val_loss: 1.0794 - val_accuracy: 0.6110\n",
      "Epoch 34/50\n",
      "448/448 [==============================] - 219s 488ms/step - loss: 0.6247 - accuracy: 0.7747 - val_loss: 1.0771 - val_accuracy: 0.6127\n",
      "Epoch 35/50\n",
      "448/448 [==============================] - 221s 493ms/step - loss: 0.6053 - accuracy: 0.7809 - val_loss: 1.0903 - val_accuracy: 0.6159\n",
      "Epoch 36/50\n",
      "448/448 [==============================] - 222s 496ms/step - loss: 0.5767 - accuracy: 0.7920 - val_loss: 1.1072 - val_accuracy: 0.6166\n",
      "Epoch 37/50\n",
      "448/448 [==============================] - 218s 487ms/step - loss: 0.5612 - accuracy: 0.7943 - val_loss: 1.1052 - val_accuracy: 0.6180\n",
      "Epoch 38/50\n",
      "448/448 [==============================] - 229s 512ms/step - loss: 0.5434 - accuracy: 0.8020 - val_loss: 1.1107 - val_accuracy: 0.6130\n",
      "Epoch 39/50\n",
      "448/448 [==============================] - 224s 501ms/step - loss: 0.5243 - accuracy: 0.8130 - val_loss: 1.1039 - val_accuracy: 0.6133\n",
      "Epoch 40/50\n",
      "448/448 [==============================] - 216s 483ms/step - loss: 0.5096 - accuracy: 0.8164 - val_loss: 1.1296 - val_accuracy: 0.6194\n",
      "Epoch 41/50\n",
      "448/448 [==============================] - 225s 502ms/step - loss: 0.4886 - accuracy: 0.8260 - val_loss: 1.1198 - val_accuracy: 0.6242\n",
      "Epoch 42/50\n",
      "448/448 [==============================] - 232s 519ms/step - loss: 0.4731 - accuracy: 0.8294 - val_loss: 1.1450 - val_accuracy: 0.6172\n",
      "Epoch 43/50\n",
      "448/448 [==============================] - 227s 506ms/step - loss: 0.4551 - accuracy: 0.8362 - val_loss: 1.1421 - val_accuracy: 0.6230\n",
      "Epoch 44/50\n",
      "448/448 [==============================] - 235s 525ms/step - loss: 0.4450 - accuracy: 0.8394 - val_loss: 1.1675 - val_accuracy: 0.6240\n",
      "Epoch 45/50\n",
      "448/448 [==============================] - 223s 497ms/step - loss: 0.4224 - accuracy: 0.8475 - val_loss: 1.1547 - val_accuracy: 0.6256\n",
      "Epoch 46/50\n",
      "448/448 [==============================] - 225s 501ms/step - loss: 0.4135 - accuracy: 0.8540 - val_loss: 1.1588 - val_accuracy: 0.6210\n",
      "Epoch 47/50\n",
      "448/448 [==============================] - 279s 624ms/step - loss: 0.3973 - accuracy: 0.8575 - val_loss: 1.1736 - val_accuracy: 0.6283\n",
      "Epoch 48/50\n",
      "448/448 [==============================] - 292s 651ms/step - loss: 0.3911 - accuracy: 0.8597 - val_loss: 1.1672 - val_accuracy: 0.6211\n",
      "Epoch 49/50\n",
      "448/448 [==============================] - 286s 639ms/step - loss: 0.3760 - accuracy: 0.8651 - val_loss: 1.1807 - val_accuracy: 0.6272\n",
      "Epoch 50/50\n",
      "448/448 [==============================] - 281s 628ms/step - loss: 0.3657 - accuracy: 0.8703 - val_loss: 1.2028 - val_accuracy: 0.6214\n"
     ]
    }
   ],
   "source": [
    "# Train the neural network/model\n",
    "emotion_model_info = emotion_model.fit(\n",
    "        train_generator,\n",
    "        steps_per_epoch=28709 // 64,\n",
    "        epochs=50,\n",
    "        validation_data=validation_generator,\n",
    "        validation_steps=7178 // 64)\n",
    "\n",
    "# save model structure in jason file\n",
    "model_json = emotion_model.to_json()\n",
    "with open(\"emotion_model.json\", \"w\") as json_file:\n",
    "    json_file.write(model_json)\n",
    "\n",
    "# save trained model weight in .h5 file\n",
    "emotion_model.save_weights('emotion_model.h5')"
   ]
  },
  {
   "cell_type": "code",
   "execution_count": 7,
   "id": "04478262",
   "metadata": {},
   "outputs": [
    {
     "name": "stdout",
     "output_type": "stream",
     "text": [
      "Loaded model from disk\n",
      "113/113 [==============================] - 11s 96ms/step - loss: 1.2019 - accuracy: 0.6216\n"
     ]
    },
    {
     "data": {
      "text/plain": [
       "[1.2018555402755737, 0.6216216087341309]"
      ]
     },
     "execution_count": 7,
     "metadata": {},
     "output_type": "execute_result"
    }
   ],
   "source": [
    "from keras.models import model_from_json\n",
    "json_file = open('model/emotion_model.json', 'r')\n",
    "loaded_model_json = json_file.read()\n",
    "json_file.close()\n",
    "emotion_model = model_from_json(loaded_model_json)\n",
    "\n",
    "emotion_model.load_weights(\"model/emotion_model.h5\")\n",
    "print(\"Loaded model from disk\")\n",
    "emotion_model.compile(loss='categorical_crossentropy', optimizer=Adam(learning_rate=0.0001, decay=1e-6), metrics=['accuracy'])\n",
    "emotion_model.evaluate(validation_generator)"
   ]
  },
  {
   "cell_type": "code",
   "execution_count": null,
   "id": "6f18dcda",
   "metadata": {},
   "outputs": [],
   "source": []
  }
 ],
 "metadata": {
  "kernelspec": {
   "display_name": "Python 3 (ipykernel)",
   "language": "python",
   "name": "python3"
  },
  "language_info": {
   "codemirror_mode": {
    "name": "ipython",
    "version": 3
   },
   "file_extension": ".py",
   "mimetype": "text/x-python",
   "name": "python",
   "nbconvert_exporter": "python",
   "pygments_lexer": "ipython3",
   "version": "3.9.13"
  }
 },
 "nbformat": 4,
 "nbformat_minor": 5
}
